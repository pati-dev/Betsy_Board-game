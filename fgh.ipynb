{
  "nbformat": 4,
  "nbformat_minor": 0,
  "metadata": {
    "colab": {
      "name": "fgh.ipynb",
      "provenance": [],
      "collapsed_sections": [],
      "include_colab_link": true
    },
    "kernelspec": {
      "name": "python3",
      "display_name": "Python 3"
    }
  },
  "cells": [
    {
      "cell_type": "markdown",
      "metadata": {
        "id": "view-in-github",
        "colab_type": "text"
      },
      "source": [
        "<a href=\"https://colab.research.google.com/github/pati-dev/Betsy_Board-game/blob/master/fgh.ipynb\" target=\"_parent\"><img src=\"https://colab.research.google.com/assets/colab-badge.svg\" alt=\"Open In Colab\"/></a>"
      ]
    },
    {
      "cell_type": "markdown",
      "metadata": {
        "id": "xqFNqR4qbm5x",
        "colab_type": "text"
      },
      "source": [
        "# Solution f:\n",
        "### f1)"
      ]
    },
    {
      "cell_type": "markdown",
      "metadata": {
        "id": "N-RAnQEtG1Px",
        "colab_type": "text"
      },
      "source": [
        "* Initial State Matrix:\n",
        "\\begin{array}{|c|c|}\n",
        "\\hline \\textbf{a} & \\textbf{b} & \\textbf{c} \\\\\\hline\n",
        "  1 & 1 & 1 \\\\\\hline\n",
        "\\end{array}\n",
        "* Final State:\n",
        "\\begin{array}{|c|c|}\n",
        "\\hline \\textbf{0} & 1 \\\\\\hline\n",
        "  \\textbf{1} & 1 \\\\\\hline\n",
        "  \\textbf{2} & 1 \\\\\\hline\n",
        "  \\textbf{3} & 0 \\\\\\hline\n",
        "\\end{array}\n",
        "* Transition Matrix:\n",
        "\\begin{array}{|c|c|}\n",
        "\\hline \\textbf{States} & \\textbf{a} & \\textbf{b} & \\textbf{c} \\\\\\hline\n",
        "  \\textbf{0} & 3 & 1 & 2 \\\\\\hline\n",
        "  \\textbf{1} & 3 & 1 & -1 \\\\\\hline\n",
        "  \\textbf{2} & 2 & -1 & -1 \\\\\\hline\n",
        "  \\textbf{3} & 3 & 1 & -1 \\\\\\hline\n",
        "\\end{array}\n",
        "where -1 denotes a forbidden transition."
      ]
    },
    {
      "cell_type": "markdown",
      "metadata": {
        "id": "YJ6qUaePMPxx",
        "colab_type": "text"
      },
      "source": [
        "### f2)\n",
        "In terms of regex, the language of this FSA can be encoded as follows:\n",
        "\n",
        "((^(b*a*)*b$)|(^(a+b*)*b$))|(^ca+$)"
      ]
    },
    {
      "cell_type": "markdown",
      "metadata": {
        "id": "znqOACWmNfS4",
        "colab_type": "text"
      },
      "source": [
        "# Solution g:\n",
        "The transition matrix (**T**) specified in the question is:\n",
        "\\begin{array}{|c|c|}\n",
        "\\hline States & \\textbf{s_0} & \\textbf{s_1} & \\textbf{s_2} & \\textbf{s_3} \\\\\\hline\n",
        "  s_0 & 0.2 & 0.5 & 0.2 & 0.1 \\\\\\hline\n",
        "  s_1 & 0.3 & 0.4 & 0.2 & 0.1 \\\\\\hline\n",
        "  s_2 & 0.1 & 0.3 & 0.4 & 0.2 \\\\\\hline\n",
        "  s_3 & 0.1 & 0.1 & 0.3 & 0.5 \\\\\\hline\n",
        "\\end{array}\n",
        "And the initial state vector (**I**) is:\n",
        "\\begin{array}{|c|c|}\n",
        "\\hline s_0 & s_1 & s_2 & s_3 \\\\\\hline\n",
        "  0.5 & 0.3 & 0.2 & 0.0 \\\\\\hline\n",
        "\\end{array}\n",
        "\n",
        "Therefore, final state vector (**F**) after *n* timesteps can be computed using linear algebra notations as below:\n",
        "\n",
        "F_n = \n",
        "\n",
        "Let us encode both of these matrices in *numpy* arrays."
      ]
    },
    {
      "cell_type": "code",
      "metadata": {
        "id": "wR1MBZSkO5yf",
        "colab_type": "code",
        "colab": {}
      },
      "source": [
        ""
      ],
      "execution_count": 0,
      "outputs": []
    }
  ]
}