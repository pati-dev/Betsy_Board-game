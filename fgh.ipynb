{
  "nbformat": 4,
  "nbformat_minor": 0,
  "metadata": {
    "colab": {
      "name": "fgh.ipynb",
      "provenance": [],
      "collapsed_sections": [],
      "include_colab_link": true
    },
    "kernelspec": {
      "name": "python3",
      "display_name": "Python 3"
    }
  },
  "cells": [
    {
      "cell_type": "markdown",
      "metadata": {
        "id": "view-in-github",
        "colab_type": "text"
      },
      "source": [
        "<a href=\"https://colab.research.google.com/github/pati-dev/Betsy_Board-game/blob/master/fgh.ipynb\" target=\"_parent\"><img src=\"https://colab.research.google.com/assets/colab-badge.svg\" alt=\"Open In Colab\"/></a>"
      ]
    },
    {
      "cell_type": "markdown",
      "metadata": {
        "id": "xqFNqR4qbm5x",
        "colab_type": "text"
      },
      "source": [
        "# Solution f:\n",
        "### f1)"
      ]
    },
    {
      "cell_type": "markdown",
      "metadata": {
        "id": "N-RAnQEtG1Px",
        "colab_type": "text"
      },
      "source": [
        "* Initial State Matrix:\n",
        "\\begin{array}{|c|c|}\n",
        "\\hline \\textbf{0} & \\textbf{1} & \\textbf{2} & \\textbf{3} \\\\\\hline\n",
        "  1 & 0 & 0 & 0 \\\\\\hline\n",
        "\\end{array}\n",
        "* Final State:\n",
        "\\begin{array}{|c|c|}\n",
        "\\hline \\textbf{0} & 1 \\\\\\hline\n",
        "  \\textbf{1} & 1 \\\\\\hline\n",
        "  \\textbf{2} & 1 \\\\\\hline\n",
        "  \\textbf{3} & 0 \\\\\\hline\n",
        "\\end{array}\n",
        "* Transition Matrix:\n",
        "\\begin{array}{|c|c|}\n",
        "\\hline \\textbf{States} & \\textbf{a} & \\textbf{b} & \\textbf{c} \\\\\\hline\n",
        "  \\textbf{0} & 3 & 1 & 2 \\\\\\hline\n",
        "  \\textbf{1} & 3 & 1 & -1 \\\\\\hline\n",
        "  \\textbf{2} & 2 & -1 & -1 \\\\\\hline\n",
        "  \\textbf{3} & 3 & 1 & -1 \\\\\\hline\n",
        "\\end{array}\n",
        "where -1 denotes a forbidden transition."
      ]
    },
    {
      "cell_type": "markdown",
      "metadata": {
        "id": "YJ6qUaePMPxx",
        "colab_type": "text"
      },
      "source": [
        "### f2)\n",
        "In terms of regex, the language of this FSA can be encoded as follows:\n",
        "\n",
        "`((^(b*a*)*b$)|(^(a+b*)*b$))|(^ca+$)`"
      ]
    },
    {
      "cell_type": "markdown",
      "metadata": {
        "id": "znqOACWmNfS4",
        "colab_type": "text"
      },
      "source": [
        "# Solution g:\n",
        "The transition matrix ($P$) specified in the question is:\n",
        "\\begin{array}{|c|c|}\n",
        "\\hline \\textbf{States} & \\textbf{s_0} & \\textbf{s_1} & \\textbf{s_2} & \\textbf{s_3} \\\\\\hline\n",
        "  \\textbf{s_0} & 0.2 & 0.5 & 0.2 & 0.1 \\\\\\hline\n",
        "  \\textbf{s_1} & 0.3 & 0.4 & 0.2 & 0.1 \\\\\\hline\n",
        "  \\textbf{s_2} & 0.1 & 0.3 & 0.4 & 0.2 \\\\\\hline\n",
        "  \\textbf{s_3} & 0.1 & 0.1 & 0.3 & 0.5 \\\\\\hline\n",
        "\\end{array}\n",
        "And the initial state vector ($v$) is:\n",
        "\\begin{array}{|c|c|}\n",
        "\\hline \\textbf{s_0} & \\textbf{s_1} & \\textbf{s_2} & \\textbf{s_3} \\\\\\hline\n",
        "  0.5 & 0.3 & 0.2 & 0.0 \\\\\\hline\n",
        "\\end{array}\n",
        "\n",
        "Hence, final state vector ($Q$) after *n* timesteps can be computed using linear algebra notations as below:\n",
        "\n",
        "\\begin{equation*}\n",
        "Q_n = v.P^n\n",
        "\\end{equation*}\n",
        "Note here that resulting values in the $Q_n$ matrix will represent probabilities as their sum will be equal to $1$.\n",
        "\n",
        "For now, let us encode both of these matrices in *numpy* arrays to solve the problems."
      ]
    },
    {
      "cell_type": "code",
      "metadata": {
        "id": "wR1MBZSkO5yf",
        "colab_type": "code",
        "colab": {}
      },
      "source": [
        "import numpy as np\n",
        "\n",
        "P = np.array([[0.2, 0.5, 0.2, 0.1],\n",
        "              [0.3, 0.4, 0.2, 0.1],\n",
        "              [0.1, 0.3, 0.4, 0.2],\n",
        "              [0.1, 0.1, 0.3, 0.5]])\n",
        "v = np.array([0.5, 0.3, 0.2, 0.])"
      ],
      "execution_count": 0,
      "outputs": []
    },
    {
      "cell_type": "markdown",
      "metadata": {
        "id": "aa8HulhJbwSQ",
        "colab_type": "text"
      },
      "source": [
        "### g1)\n",
        "\n",
        "For this problem, we have:\n",
        "\n",
        "$n = 4$\n",
        "\n",
        "$\\therefore Q_4 = v.P^4$"
      ]
    },
    {
      "cell_type": "code",
      "metadata": {
        "id": "HzNBZYieZWEW",
        "colab_type": "code",
        "outputId": "e30776cb-4170-4f02-fd8e-5854d61efee4",
        "colab": {
          "base_uri": "https://localhost:8080/",
          "height": 34
        }
      },
      "source": [
        "Q_4 = v@P@P@P@P\n",
        "print(Q_4)"
      ],
      "execution_count": 11,
      "outputs": [
        {
          "output_type": "stream",
          "text": [
            "[0.18791 0.33393 0.27332 0.20484]\n"
          ],
          "name": "stdout"
        }
      ]
    },
    {
      "cell_type": "markdown",
      "metadata": {
        "id": "6lyOt9F8fhWe",
        "colab_type": "text"
      },
      "source": [
        "As we can see in the output above, the probability that exactly 3 lines are busy after 4 steps will be 0.20 or 20%."
      ]
    },
    {
      "cell_type": "markdown",
      "metadata": {
        "id": "bTtauzw_ftuY",
        "colab_type": "text"
      },
      "source": [
        "### g2)\n",
        "\n",
        "Again, eye-balling the output above, we observe that the highest probability after 4 steps is 0.33 or 33%, and it corresponds to exactly 1 line being busy."
      ]
    },
    {
      "cell_type": "markdown",
      "metadata": {
        "id": "FIZQs7TrgtBj",
        "colab_type": "text"
      },
      "source": [
        "# Solution h"
      ]
    },
    {
      "cell_type": "code",
      "metadata": {
        "id": "NVrvz22P65Gv",
        "colab_type": "code",
        "colab": {
          "base_uri": "https://localhost:8080/",
          "height": 51
        },
        "outputId": "3c0128f0-1d78-40c7-e2a7-7d203e6be7f6"
      },
      "source": [
        "# import nltk\n",
        "# nltk.download('brown')\n",
        "# nltk.download('punkt')\n",
        "\n",
        "from nltk.corpus import brown\n",
        "from collections import Counter\n",
        "from collections import defaultdict\n",
        "from nltk.util import ngrams\n",
        "from nltk.tag import hmm\n",
        "from nltk import word_tokenize"
      ],
      "execution_count": 51,
      "outputs": [
        {
          "output_type": "stream",
          "text": [
            "[nltk_data] Downloading package punkt to /root/nltk_data...\n",
            "[nltk_data]   Unzipping tokenizers/punkt.zip.\n"
          ],
          "name": "stdout"
        }
      ]
    },
    {
      "cell_type": "code",
      "metadata": {
        "id": "Mp36_quAhTIN",
        "colab_type": "code",
        "colab": {}
      },
      "source": [
        "tokens, tags = zip(*brown.tagged_words())\n",
        "\n",
        "tagCounter = Counter(tags)\n",
        "tokenCounter = Counter(tokens)\n",
        "tokenTags = defaultdict(Counter)\n",
        "\n",
        "for token, tag in brown.tagged_words():\n",
        "    tokenTags[token][tag] +=1\n",
        "\n",
        "tagTags = defaultdict(Counter)\n",
        "posBigrams = list(ngrams(tags, 2))\n",
        "for tag1, tag2 in posBigrams:\n",
        "    tagTags[tag1][tag2] += 1\n",
        "\n",
        "offset = 0\n",
        "initialTags = Counter()\n",
        "for x in brown.sents():\n",
        "    initTag = tags[offset]\n",
        "    initialTags[initTag] += 1\n",
        "    offset += len(x)"
      ],
      "execution_count": 0,
      "outputs": []
    },
    {
      "cell_type": "code",
      "metadata": {
        "id": "Qu3AO25XlRv0",
        "colab_type": "code",
        "colab": {
          "base_uri": "https://localhost:8080/",
          "height": 102
        },
        "outputId": "24a3946e-e3fe-48a8-978b-0c244131727f"
      },
      "source": [
        "trainer = hmm.HiddenMarkovModelTrainer()\n",
        "\n",
        "tagger = trainer.train_supervised(brown.tagged_sents())\n",
        "\n",
        "tagger.tag(word_tokenize(\"time flies like an arrow\"))"
      ],
      "execution_count": 52,
      "outputs": [
        {
          "output_type": "execute_result",
          "data": {
            "text/plain": [
              "[('time', 'NN'),\n",
              " ('flies', 'VBZ'),\n",
              " ('like', 'CS'),\n",
              " ('an', 'AT'),\n",
              " ('arrow', 'NN')]"
            ]
          },
          "metadata": {
            "tags": []
          },
          "execution_count": 52
        }
      ]
    }
  ]
}